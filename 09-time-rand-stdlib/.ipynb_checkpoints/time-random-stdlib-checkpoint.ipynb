{
 "cells": [
  {
   "cell_type": "markdown",
   "metadata": {},
   "source": [
    "# Módulos Útiles de `stdlib`\n",
    "En esta sesión, estudiaremos módulos incluidos en la _librería standard de python (`stdlib`)_ y sus usos.\n",
    "\n",
    "## Índice\n",
    "1. `datetime`\n",
    "2. `random`\n",
    "3. `os`\n",
    "4. ¿Qué sigue ahora?"
   ]
  },
  {
   "cell_type": "markdown",
   "metadata": {},
   "source": [
    "## 1. [`datetime`](https://docs.python.org/3/library/datetime.html)\n",
    "El módulo `datetime` de la `stdlib` nos sirve para trabajar de manera intuitiva con valores de tiempo. Lo utilizamos de la siguiente forma:"
   ]
  },
  {
   "cell_type": "code",
   "execution_count": 1,
   "metadata": {},
   "outputs": [
    {
     "name": "stdout",
     "output_type": "stream",
     "text": [
      "2019-11-04 00:00:00\n"
     ]
    }
   ],
   "source": [
    "import datetime as dt\n",
    "\n",
    "# Creación de un objeto `datetime.datetime` dados un año, mes y día\n",
    "ex1 = dt.datetime(2019, 11, 4)\n",
    "print(ex1)"
   ]
  },
  {
   "cell_type": "code",
   "execution_count": 2,
   "metadata": {},
   "outputs": [
    {
     "name": "stdout",
     "output_type": "stream",
     "text": [
      "2019-11-05 00:00:00\n"
     ]
    }
   ],
   "source": [
    "# Creción de un objeto `datetime.datetime` a partir de una cadena de una `str`\n",
    "ex2 = dt.datetime.strptime(\"5/11/2019\", \"%d/%m/%Y\")\n",
    "print(ex2)"
   ]
  },
  {
   "cell_type": "code",
   "execution_count": 3,
   "metadata": {},
   "outputs": [
    {
     "data": {
      "text/plain": [
       "'11/05/2019'"
      ]
     },
     "execution_count": 3,
     "metadata": {},
     "output_type": "execute_result"
    }
   ],
   "source": [
    "# Conversión de un objeto `datetime.datetime` a `str`\n",
    "ex3 = ex2.strftime(\"%m/%d/%Y\")\n",
    "ex3"
   ]
  },
  {
   "cell_type": "code",
   "execution_count": 4,
   "metadata": {},
   "outputs": [
    {
     "data": {
      "text/plain": [
       "(4, 2019)"
      ]
     },
     "execution_count": 4,
     "metadata": {},
     "output_type": "execute_result"
    }
   ],
   "source": [
    "# Acceso a partes específicas del objeto `datetime.datetime`\n",
    "ex1.day, ex2.year"
   ]
  },
  {
   "cell_type": "code",
   "execution_count": 5,
   "metadata": {},
   "outputs": [
    {
     "name": "stdout",
     "output_type": "stream",
     "text": [
      "1 day, 0:00:00\n"
     ]
    },
    {
     "data": {
      "text/plain": [
       "(datetime.timedelta(days=1), None)"
      ]
     },
     "execution_count": 5,
     "metadata": {},
     "output_type": "execute_result"
    }
   ],
   "source": [
    "# Operaciones entre objetos `datetime.datetime`\n",
    "ex2 - ex1, print(ex2-ex1)"
   ]
  },
  {
   "cell_type": "code",
   "execution_count": 6,
   "metadata": {},
   "outputs": [
    {
     "name": "stdout",
     "output_type": "stream",
     "text": [
      "2019-11-04 03:39:00\n"
     ]
    },
    {
     "data": {
      "text/plain": [
       "(datetime.datetime(2019, 11, 4, 3, 39), None)"
      ]
     },
     "execution_count": 6,
     "metadata": {},
     "output_type": "execute_result"
    }
   ],
   "source": [
    "# Instanciación de un objeto `datetime.timedelta`\n",
    "delta = dt.timedelta(hours=3, minutes=39)\n",
    "ex1+delta, print(ex1+delta)"
   ]
  },
  {
   "cell_type": "markdown",
   "metadata": {},
   "source": [
    "## 2. [`random`](https://docs.python.org/3/library/random.html)\n",
    "\n",
    "Como su nombre lo indica, el módulo `random` nos permite generar números _pseudo-aleatorios_ de diferentes formas."
   ]
  },
  {
   "cell_type": "code",
   "execution_count": 7,
   "metadata": {},
   "outputs": [
    {
     "data": {
      "text/plain": [
       "0.506437701918676"
      ]
     },
     "execution_count": 7,
     "metadata": {},
     "output_type": "execute_result"
    }
   ],
   "source": [
    "import random\n",
    "\n",
    "random.random()"
   ]
  },
  {
   "cell_type": "code",
   "execution_count": 8,
   "metadata": {},
   "outputs": [
    {
     "data": {
      "text/plain": [
       "12"
      ]
     },
     "execution_count": 8,
     "metadata": {},
     "output_type": "execute_result"
    }
   ],
   "source": [
    "random.randint(10, 20)"
   ]
  },
  {
   "cell_type": "markdown",
   "metadata": {},
   "source": [
    "## 3. [`os`](https://docs.python.org/3/library/os.html)\n",
    "\n",
    "Este módulo es especial y diferente entre cada sistema operativo (Linux, Mac OS, Windows, BSD, etc...). "
   ]
  },
  {
   "cell_type": "code",
   "execution_count": 9,
   "metadata": {},
   "outputs": [
    {
     "data": {
      "text/plain": [
       "('posix', '/home/jdbr')"
      ]
     },
     "execution_count": 9,
     "metadata": {},
     "output_type": "execute_result"
    }
   ],
   "source": [
    "import os\n",
    "os.name, os.environ['HOME']"
   ]
  },
  {
   "cell_type": "markdown",
   "metadata": {},
   "source": [
    "## 4. ¿Qué sigue ahora?\n",
    "+ Aprender más formatos de datos:\n",
    "    - GeoJSON\n",
    "    - DB\n",
    "        - SQL\n",
    "        - NO-SQL\n",
    "+ Aprender otros frameworks de análisis de datos:\n",
    "    - [Geopandas](https://geopandas.org)\n",
    "    - [Altair](https://altair-viz.github.io/)\n",
    "    - [Plotly](https://plot.ly/python/)\n",
    "+ Aprender nuevos lenguajes de programación para análisis de datos:\n",
    "    - [R](https://www.r-project.org/about.html)\n",
    "+ Realizar estudios independientes\n",
    "    - [Portal de Datos Abiertos del Gobierno de México](https://datos.gob.mx)\n",
    "+ Aprender formas de presentar contenido\n",
    "    - [Django](https://www.djangoproject.com/)\n",
    "    - [Flask](https://palletsprojects.com/p/flask/)\n",
    "+ Aprender sobre software matemático con python\n",
    "    - [Sympy](https://sympy.org)\n",
    "    - [Chempy](https://pypi.org/project/chempy/)\n",
    "        - [ChemPy: Balancea ecuaciones químicas en Python [Youtube]](https://youtu.be/Ebmw-iHPb2w)\n",
    "+ Aprender sobre _api_'s con python\n",
    "    - REST"
   ]
  }
 ],
 "metadata": {
  "kernelspec": {
   "display_name": "Python 3",
   "language": "python",
   "name": "python3"
  },
  "language_info": {
   "codemirror_mode": {
    "name": "ipython",
    "version": 3
   },
   "file_extension": ".py",
   "mimetype": "text/x-python",
   "name": "python",
   "nbconvert_exporter": "python",
   "pygments_lexer": "ipython3",
   "version": "3.7.5"
  }
 },
 "nbformat": 4,
 "nbformat_minor": 4
}
