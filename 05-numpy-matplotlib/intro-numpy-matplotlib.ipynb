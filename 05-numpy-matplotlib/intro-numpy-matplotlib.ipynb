{
 "cells": [
  {
   "cell_type": "markdown",
   "metadata": {},
   "source": [
    "# Introducción a Numpy y Matplotlib\n",
    "En este documento estudiaremos los básicos de `numpy` para cómputo científico, así como el uso de `matplotlib` en su modo más básico, _stateful_.\n",
    "\n",
    "## Temario\n",
    "Los temas a cubrir en esta sesión son los siguientes:\n",
    "1. Funciones recursivas\n",
    "2. Encadenamiento de Métodos\n",
    "3. Introducción a `numpy`\n",
    "    1. `ndarray`s\n",
    "    2. Métodos importantes\n",
    "    3. Indexado\n",
    "4. Intoducción a `matplotlib` "
   ]
  },
  {
   "cell_type": "markdown",
   "metadata": {},
   "source": [
    "## 1. Funciones recursivas\n",
    "Las funciones recursivas, son funciones que dentro de sí mismas, se llaman a sí mismas. Aunque puede sonar confuso, en realidad nos permiten resolver muchos problemas de forma intuitiva utilizando la _definición_ del problema. \n",
    "### Ejemplo:\n",
    "Veamos un ejemplo de recursión utilizando la definición de los números de fibonacci\n",
    "$$f(n) = f(n-1) + f(n-2)$$"
   ]
  },
  {
   "cell_type": "code",
   "execution_count": 69,
   "metadata": {},
   "outputs": [
    {
     "data": {
      "text/plain": [
       "832040"
      ]
     },
     "execution_count": 69,
     "metadata": {},
     "output_type": "execute_result"
    }
   ],
   "source": [
    "def fibonacci(n):\n",
    "    x = [None for x in range(n+2)]\n",
    "    x[0] = 0\n",
    "    x[1] = 1\n",
    "    if x[n] != None:\n",
    "        return x[n]\n",
    "    else:\n",
    "        f = fibonacci(n-1) + fibonacci(n-2)\n",
    "        x[n] = f\n",
    "        return f\n",
    "        \n",
    "fibonacci(30)"
   ]
  },
  {
   "cell_type": "code",
   "execution_count": 70,
   "metadata": {},
   "outputs": [
    {
     "data": {
      "text/plain": [
       "832040"
      ]
     },
     "execution_count": 70,
     "metadata": {},
     "output_type": "execute_result"
    }
   ],
   "source": [
    "def f(n):\n",
    "    if n == 0:\n",
    "        return 0\n",
    "    elif n == 1:\n",
    "        return 1\n",
    "    return f(n-1) + f(n-2)\n",
    "\n",
    "f(30)"
   ]
  },
  {
   "cell_type": "markdown",
   "metadata": {},
   "source": [
    "## 2. Encadenamiento de Métodos\n",
    "El encadenamiento de métods, es la habilidad de llamar varios métodos sobre un mismo objeto de manera compacta y concisa.\n",
    "Un ejemplo recientemente visto es convertir una _str_ con varias palabras a una lista de _str_ donde las palabras se encuentren en minúsculas:"
   ]
  },
  {
   "cell_type": "code",
   "execution_count": 2,
   "metadata": {},
   "outputs": [
    {
     "name": "stdout",
     "output_type": "stream",
     "text": [
      "Hola, mi nombre es Juan Pérez\n",
      "\n",
      "['hola,', 'mi', 'nombre', 'es', 'juan', 'pérez']\n"
     ]
    }
   ],
   "source": [
    "texto = \"Hola, mi nombre es Juan Pérez\"\n",
    "lista_de_palabras = texto.lower().split()\n",
    "print(texto)\n",
    "print()\n",
    "print(lista_de_palabras)"
   ]
  },
  {
   "cell_type": "markdown",
   "metadata": {},
   "source": [
    "## 3. Introducción a [`numpy`](https://docs.scipy.org/doc/numpy/reference/)\n",
    "En cómputo científico es muy común trabajar con sets de datos grandes en forma de vectores y/o matrices, así como emplear muchos tipos de operaciones matemáticas para estadística, probabilidad, conteo, etc. Es para esto que utilizamos el módulo `numpy`, el cuál contiene métodos, funciones y declaraciones de clases y constantes útiles y recurrentes en el cómputo científico y matemático.\n",
    "\n",
    "#### Nota\n",
    "Como estaremos utilizando `numpy` en varios de los siguientes ejemplos, importaremos `numpy` ahora."
   ]
  },
  {
   "cell_type": "code",
   "execution_count": 23,
   "metadata": {},
   "outputs": [],
   "source": [
    "import numpy as np"
   ]
  },
  {
   "cell_type": "markdown",
   "metadata": {},
   "source": [
    "### 3.A [`ndarray`s](https://docs.scipy.org/doc/numpy/reference/generated/numpy.ndarray.html)\n",
    "En `numpy` se encuentran definidos los `ndarray` (corto para _n dimendional array_). Estos son objetos que nos permiten almacenar datos del mismo tipo en arreglos vectoriales o matriciales. Son una forma muy eficiente de almacenar datos y manejarlos, especialmente son mucho más eficientes que las `list`s de Python.  \n",
    "Existen 2 principales formas de crear `ndarray`s:\n",
    "#### `ndarray` a partir de funciones de `numpy`:\n",
    "Existen muchas funciones que crean `ndarray`s en `numpy`. Las más comunes son:"
   ]
  },
  {
   "cell_type": "code",
   "execution_count": 24,
   "metadata": {},
   "outputs": [
    {
     "name": "stdout",
     "output_type": "stream",
     "text": [
      "[ 0  1  2  3  4  5  6  7  8  9 10 11 12 13 14 15 16 17 18 19] (20,)\n",
      "[0. 0. 0. 0. 0. 0. 0. 0. 0. 0. 0. 0. 0. 0. 0. 0. 0. 0. 0. 0.] (20,)\n",
      "[1. 1. 1. 1. 1. 1. 1. 1. 1. 1. 1. 1. 1. 1. 1. 1. 1. 1. 1. 1.] (20,)\n"
     ]
    }
   ],
   "source": [
    "a = np.arange(20)\n",
    "b = np.zeros(20)\n",
    "c = np.ones(20)\n",
    "print(a, a.shape)\n",
    "print(b, b.shape)\n",
    "print(c, c.shape)"
   ]
  },
  {
   "cell_type": "markdown",
   "metadata": {},
   "source": [
    "#### `ndarray` a partir de otras estructuras:\n",
    "La otra forma es crear un `ndarray` a partir de una estructura de datos previamente existente:"
   ]
  },
  {
   "cell_type": "code",
   "execution_count": 25,
   "metadata": {},
   "outputs": [
    {
     "data": {
      "text/plain": [
       "(array([[1, 2, 3],\n",
       "        [4, 5, 6],\n",
       "        [7, 8, 9]]), (3, 3))"
      ]
     },
     "execution_count": 25,
     "metadata": {},
     "output_type": "execute_result"
    }
   ],
   "source": [
    "my_list = [[1,2,3],[4,5,6],[7,8,9]]\n",
    "my_array = np.array(my_list)\n",
    "my_array, my_array.shape"
   ]
  },
  {
   "cell_type": "markdown",
   "metadata": {},
   "source": [
    "### 3.B Indexado\n",
    "Para acceder a los elementos de un `array` utilizamos indexado. El indexado en `array`s funciona parecido a el de `list`s de Python."
   ]
  },
  {
   "cell_type": "code",
   "execution_count": 31,
   "metadata": {},
   "outputs": [
    {
     "name": "stdout",
     "output_type": "stream",
     "text": [
      "0\n",
      "[0. 0. 0. 0. 0.]\n",
      "[1. 1. 1. 1. 1. 1. 1. 1. 1. 1.]\n",
      "[4 5 6]\n",
      "[[1 2]\n",
      " [4 5]]\n"
     ]
    }
   ],
   "source": [
    "print(a[0])\n",
    "print(b[5:10])\n",
    "print(c[10:])\n",
    "print(my_array[1])\n",
    "print(my_array[0:2,0:2])"
   ]
  },
  {
   "cell_type": "markdown",
   "metadata": {},
   "source": [
    "#### 3.C Operaciones vectorizadas\n",
    "Matplotlib es capáz de utilizar la técnica _SIMD_ (Single Instruction Multiple Data) para realizar cálculos en vectores y matrices de forma más eficiente cuando la misma operación se aplica a toda la estructura."
   ]
  },
  {
   "cell_type": "code",
   "execution_count": 39,
   "metadata": {},
   "outputs": [
    {
     "data": {
      "text/plain": [
       "(array([ 1.,  2.,  3.,  4.,  5.,  6.,  7.,  8.,  9., 10., 11., 12., 13.,\n",
       "        14., 15., 16., 17., 18., 19., 20.]),\n",
       " array([-1.,  0.,  1.,  2.,  3.,  4.,  5.,  6.,  7.,  8.,  9., 10., 11.,\n",
       "        12., 13., 14., 15., 16., 17., 18.]),\n",
       " array([ 0.,  1.,  2.,  3.,  4.,  5.,  6.,  7.,  8.,  9., 10., 11., 12.,\n",
       "        13., 14., 15., 16., 17., 18., 19.]),\n",
       " array([ 0.,  1.,  2.,  3.,  4.,  5.,  6.,  7.,  8.,  9., 10., 11., 12.,\n",
       "        13., 14., 15., 16., 17., 18., 19.]),\n",
       " array([[ 1,  4,  9],\n",
       "        [16, 25, 36],\n",
       "        [49, 64, 81]]))"
      ]
     },
     "execution_count": 39,
     "metadata": {},
     "output_type": "execute_result"
    }
   ],
   "source": [
    "suma = a + c\n",
    "resta = a - c\n",
    "multi = a * c\n",
    "div = a / c\n",
    "suma, resta, multi, div, my_array**2"
   ]
  },
  {
   "cell_type": "markdown",
   "metadata": {},
   "source": [
    "## 4. Introducción a `matplotlib`\n",
    "Muy seguido sucede que deseamos visualizar los datos que tenemos. Es ahí cuando utilizamos `matplotlib`, un módulo de Python que nos provee con muchas utilidades para realizar ploteos y visualización de datos en Python.\n",
    "\n",
    "### Importando `matplotlib`\n",
    "Debido a que `matplotlib` contine muchos módulos, generalmente hacemos uso de los diferentes métodos de importación para importar módulos específicos y renombrarlos para facilitar su uso.  \n",
    "También debemos utilizar el _ipython magic command_ para mostrar los ploteos dentro de la _notebook_ que es `%matplotlib inline` "
   ]
  },
  {
   "cell_type": "code",
   "execution_count": 41,
   "metadata": {},
   "outputs": [],
   "source": [
    "# import matplotlib.pyplot as plt\n",
    "from matplotlib import pyplot as plt\n",
    "%matplotlib inline"
   ]
  },
  {
   "cell_type": "markdown",
   "metadata": {},
   "source": [
    "### Gráficas básicas con `plot()`\n",
    "Para realizar un ploteo básico con `pyplot` simplemente debemos utilizar el método [`plot()`](https://matplotlib.org/3.1.1/api/_as_gen/matplotlib.pyplot.plot.html) de `pyplot`:"
   ]
  },
  {
   "cell_type": "code",
   "execution_count": 66,
   "metadata": {},
   "outputs": [
    {
     "data": {
      "image/png": "[encoded data removed]",
      "text/plain": [
       "<Figure size 432x288 with 1 Axes>"
      ]
     },
     "metadata": {
      "needs_background": "light"
     },
     "output_type": "display_data"
    }
   ],
   "source": [
    "x = np.arange(-10,10,.5)\n",
    "y = np.power(x, 2)\n",
    "y_two = np.power(x, 3)\n",
    "plt.plot(x, y, marker='o', color='r', label='y=x²')# \n",
    "plt.plot(x, y_two, marker='h', color='purple', label='y=x³')\n",
    "plt.show()"
   ]
  },
  {
   "cell_type": "markdown",
   "metadata": {},
   "source": [
    "#### Agregando títulos y texto\n",
    "Para agregar títulos y texto de ejes, utilizamos los métodos `title()`, `xlabel()` y `ylabel()` de `pyplot` respectivamente."
   ]
  },
  {
   "cell_type": "code",
   "execution_count": 68,
   "metadata": {},
   "outputs": [
    {
     "data": {
      "image/png": "[encoded data removed]",
      "text/plain": [
       "<Figure size 432x288 with 1 Axes>"
      ]
     },
     "metadata": {
      "needs_background": "light"
     },
     "output_type": "display_data"
    }
   ],
   "source": [
    "plt.title(\"Gráfica de Potencias\\nCuadrada y Cúbica\")\n",
    "plt.xlabel(\"Eje X\")\n",
    "plt.ylabel(\"Eje Y\")\n",
    "plt.plot(x, y, marker='.', color='b', label='y=x²')\n",
    "plt.plot(x, y_two, color='r', label='y=x³')\n",
    "plt.legend()\n",
    "plt.show()"
   ]
  }
 ],
 "metadata": {
  "kernelspec": {
   "display_name": "Python 3",
   "language": "python",
   "name": "python3"
  },
  "language_info": {
   "codemirror_mode": {
    "name": "ipython",
    "version": 3
   },
   "file_extension": ".py",
   "mimetype": "text/x-python",
   "name": "python",
   "nbconvert_exporter": "python",
   "pygments_lexer": "ipython3",
   "version": "3.7.4"
  }
 },
 "nbformat": 4,
 "nbformat_minor": 4
}
