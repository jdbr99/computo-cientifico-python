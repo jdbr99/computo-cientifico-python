{
 "cells": [
  {
   "cell_type": "markdown",
   "metadata": {},
   "source": [
    "# Uso Avanzado de Matplotlib e Introducción a Pandas\n",
    "En esta sesión, estudiaremos la forma orientada a objetos de utilizar `matplotlib`, así como métodos útiles y consejos sobre narración de datos. Luego, veremos una introducción a Pandas y cómo utilizarlo realizar análisis de datos.\n",
    "\n",
    "## Temario\n",
    "1. _OO_ `matploltib`\n",
    "2. Narración de Datos\n",
    "    1. Correlaciónno Implica Causalidad\n",
    "    2. Método de la tinta\n",
    "3. Formatos Comunes de Datasets\n",
    "    1. JSON\n",
    "    2. CSV\n",
    "4. Introducción a Pandas\n",
    "    1. ¿Qué es _Pandas_?\n",
    "    2. Importando `pandas`\n",
    "    3. `dataframe`"
   ]
  },
  {
   "cell_type": "code",
   "execution_count": 73,
   "metadata": {},
   "outputs": [],
   "source": [
    "import numpy as np\n",
    "from matplotlib import pyplot as plt\n",
    "%matplotlib inline"
   ]
  },
  {
   "cell_type": "markdown",
   "metadata": {},
   "source": [
    "## _OO_ `matplotlib`\n",
    "Hemos visto antes como trabajar en la forma _stateful_ de `matplotlib`, es decir, modificando el estado global del objeto `matplotlib.pyplot`, sin embargo, suele ser conveniente trabajar en una forma más _\"Orientada a Objetos\"_ de `matplotlib`. Para estas situaciones, utilizamos `subplots`.\n",
    "\n",
    "### Creando `subplots`\n",
    "Para crear una pareja de `figure`, `[axes]` utilizamos el método inicializador `plt.subplots()`. Este método devuelve un objeto `figure`, que es el contenedor de nuestros `subplot`s y una lista de objetos `subplot`, que son los ejes en los que graficaremos."
   ]
  },
  {
   "cell_type": "code",
   "execution_count": 150,
   "metadata": {},
   "outputs": [
    {
     "data": {
      "image/png": "[encoded data removed]",
      "text/plain": [
       "<Figure size 576x396 with 2 Axes>"
      ]
     },
     "metadata": {},
     "output_type": "display_data"
    }
   ],
   "source": [
    "x = np.linspace(-10,10,20)\n",
    "y = x**2\n",
    "y_2 = x**3\n",
    "\n",
    "plt.style.use(\"seaborn\")\n",
    "fig, (ax1, ax2) = plt.subplots(nrows=1, ncols=2, sharey=True)\n",
    "\n",
    "fig.suptitle(\"Relación de x con potencias\", size=16)\n",
    "fig.tight_layout()\n",
    "fig.subplots_adjust(top=.90)\n",
    "\n",
    "ax1.plot(x,y)\n",
    "ax1.set_title(\"x=y²\")\n",
    "ax1.set_ylim(-100,100)\n",
    "\n",
    "ax2.plot(x,y_2)\n",
    "ax2.set_title(\"y=x³\")\n",
    "ax2.set_xlabel(\"x\")\n",
    "\n",
    "plt.show()"
   ]
  },
  {
   "cell_type": "markdown",
   "metadata": {},
   "source": [
    "## Narración de Datos\n",
    "Es importante presentar de forma entendible los datos obtenidos de un estudio para evitar incurrir en _falacias_ narrativas. \n",
    "### Correlación no Implica Causalidad\n",
    "Esta frase se refiere a que el hecho de que dos grupos de datos se encuentren correlacionados (es decir, que haya una relación en sus cambios) no implica que uno sea la causa del otro. Un buen ejemplo de esto es la relación entre arrestos juveniles por pocesión de marihuana y la cantidad de colonias de abejas meleras en EEUUAA.  \n",
    "![falsa_correlación_abejas_marihuana](http://tylervigen.com/correlation_project/correlation_images/honey-producing-bee-colonies-us_juvenile-arrests-for-possession-of-marijuana-us.png)"
   ]
  },
  {
   "cell_type": "markdown",
   "metadata": {},
   "source": [
    "### Método de la Tinta\n",
    "Algo muy importante en la narración de datos es que nuestra información no se vea opacada por el decoro o la contaminación de gráfica que puede generar el agregar indicadores o gráficos innecesarios. El método de la tinta consiste en reducir lo más posible el radio de _tinta-información_ que nuestra gráfica presenta. El siguiente GIF hecho por [Darkhorse Analytics](https://www.darkhorseanalytics.com/blog/data-looks-better-naked) ilustra claramente el concepto:  \n",
    "![ink_method](https://s3.amazonaws.com/dq-content/147/data-ink.gif)"
   ]
  },
  {
   "cell_type": "markdown",
   "metadata": {},
   "source": [
    "## Formatos Comunes de Datasets\n",
    "Comunmente, recibiremos los datasets a analizar o resultados de algún experimento en un par de formatos. Generalmente son en bases de datos tales como _MySQL_, _MongoDB_, _PostgreSQL_, etc. o en algún formato de texto como _JSON_ o _CSV_.\n",
    "\n",
    "### Formato _JSON_\n",
    "El formato _JSON (Javascript Object Notation)_ es un formato comunmente utilizado para agrupar información en bloques lógicos. Es un formato de texto plano comunmente utilizado en tecnologías web para transmitir información estructurada de forma estandarizada.\n",
    "```json\n",
    "{\"menu\": {\n",
    "  \"id\": \"file\",\n",
    "  \"value\": \"File\",\n",
    "  \"popup\": {\n",
    "    \"menuitem\": [\n",
    "      {\"value\": \"New\", \"onclick\": \"CreateNewDoc()\"},\n",
    "      {\"value\": \"Open\", \"onclick\": \"OpenDoc()\"},\n",
    "      {\"value\": \"Close\", \"onclick\": \"CloseDoc()\"}\n",
    "    ]\n",
    "  }\n",
    "}}\n",
    "```\n",
    "Se puede ver que su estructura es equivalente a un diccionario de Python. Para interactuar en Python con texto con formato _JSON_, utilizamos la librería `json`"
   ]
  },
  {
   "cell_type": "code",
   "execution_count": 131,
   "metadata": {},
   "outputs": [
    {
     "data": {
      "text/plain": [
       "'David'"
      ]
     },
     "execution_count": 131,
     "metadata": {},
     "output_type": "execute_result"
    }
   ],
   "source": [
    "import json\n",
    "texto_json = \"\"\"{\"nombre\": \"David\", \n",
    "               \"edad\": 19, \n",
    "               \"ciudad\": \"Guanajuato\"}\"\"\"\n",
    "json_dict = json.loads(texto_json)\n",
    "json_dict[\"nombre\"]"
   ]
  },
  {
   "cell_type": "markdown",
   "metadata": {},
   "source": [
    "### Formato _CSV_\n",
    "El formato _CSV (Comma Separated Values)_ es otro formato de texto plano común para datasets. En este, se describe una tabla separando columnas con comas (o algún otro caracter) y filas con líneas nuevas.\n",
    "```csv\n",
    "name,department,birthday month\n",
    "John Smith,Accounting,November\n",
    "Erica Meyers,IT,March\n",
    "```\n",
    "Existe una forma en la librería estándar para [interactuar con _CSV_](https://realpython.com/python-csv/), pero es más conveniente en el análisis de datos utilizar el _parser_ que `pandas` provee. "
   ]
  },
  {
   "cell_type": "markdown",
   "metadata": {},
   "source": [
    "## Introducción a _Pandas_\n",
    "### ¿Qué es _Pandas_?\n",
    "Según el [sitio oficial de _Pandas_](https://pandas.pydata.org/):\n",
    "> `pandas` es una librería de fuente abierta con licencia BSD que provee estructuras de datos y herramientas de análisis de datos de alto desempeño que son fáciles de usar para Python.\n",
    "\n",
    "### Importando `pandas`\n",
    "La forma más común de importar pandas es renombrarlo a `pd`:"
   ]
  },
  {
   "cell_type": "code",
   "execution_count": 132,
   "metadata": {},
   "outputs": [],
   "source": [
    "import pandas as pd"
   ]
  },
  {
   "cell_type": "markdown",
   "metadata": {},
   "source": [
    "### `dataframe`\n",
    "Los `dataframe`s en `pandas` son una estructura de datos que nos permite estudiar los datos de forma estructurada como una tabla. Existen muchas formas de crear `dataframe`s en pandas, veamos el ejemplo de cargar uno desde un archivo `.csv`:"
   ]
  },
  {
   "cell_type": "code",
   "execution_count": 145,
   "metadata": {},
   "outputs": [
    {
     "name": "stdout",
     "output_type": "stream",
     "text": [
      "           name  department birthday month\n",
      "0    John Smith  Accounting       November\n",
      "1  Erica Meyers          IT          March\n",
      "\n",
      "0    Accounting\n",
      "1            IT\n",
      "Name: department, dtype: object\n",
      "\n",
      "<class 'pandas.core.frame.DataFrame'>\n",
      "RangeIndex: 2 entries, 0 to 1\n",
      "Data columns (total 3 columns):\n",
      "name              2 non-null object\n",
      "department        2 non-null object\n",
      "birthday month    2 non-null object\n",
      "dtypes: object(3)\n",
      "memory usage: 176.0+ bytes\n"
     ]
    }
   ],
   "source": [
    "test_frame = pd.read_csv(\"./examples/test.csv\")\n",
    "print(test_frame)\n",
    "print()\n",
    "print(test_frame[\"department\"])\n",
    "print()\n",
    "test_frame.info()"
   ]
  }
 ],
 "metadata": {
  "kernelspec": {
   "display_name": "Python 3",
   "language": "python",
   "name": "python3"
  },
  "language_info": {
   "codemirror_mode": {
    "name": "ipython",
    "version": 3
   },
   "file_extension": ".py",
   "mimetype": "text/x-python",
   "name": "python",
   "nbconvert_exporter": "python",
   "pygments_lexer": "ipython3",
   "version": "3.7.4"
  }
 },
 "nbformat": 4,
 "nbformat_minor": 4
}
